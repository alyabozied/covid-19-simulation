{
 "cells": [
  {
   "cell_type": "code",
   "execution_count": 4,
   "metadata": {},
   "outputs": [],
   "source": [
    "from matplotlib import pyplot as plt\n",
    "%matplotlib inline"
   ]
  },
  {
   "cell_type": "code",
   "execution_count": 12,
   "metadata": {},
   "outputs": [],
   "source": [
    "class dot():\n",
    "    def __init__(self,x,y,state):\n",
    "        self.x,self.y,self.state=x,y,state "
   ]
  },
  {
   "cell_type": "code",
   "execution_count": 24,
   "metadata": {},
   "outputs": [],
   "source": [
    "class society():\n",
    "    def __init__(self,dots):\n",
    "        self.dots=dots\n",
    "    def draw(self):\n",
    "        for dot in self.dots:\n",
    "            if(dot.state==\"recovered\"):\n",
    "                plt.scatter(dot.x,dot.y,c=\"grey\")\n",
    "            if(dot.state==\"infected\"):\n",
    "                plt.scatter(dot.x,dot.y,c=\"red\")\n",
    "            if(dot.state==\"ideal\"):\n",
    "                plt.scatter(dot.x,dot.y,c=\"blue\")"
   ]
  },
  {
   "cell_type": "code",
   "execution_count": 25,
   "metadata": {},
   "outputs": [],
   "source": [
    "people = [dot(1,2,\"recoverd\")]\n",
    "S=society(people)\n",
    "S.draw()"
   ]
  },
  {
   "cell_type": "code",
   "execution_count": null,
   "metadata": {},
   "outputs": [],
   "source": []
  }
 ],
 "metadata": {
  "kernelspec": {
   "display_name": "Python 3",
   "language": "python",
   "name": "python3"
  },
  "language_info": {
   "codemirror_mode": {
    "name": "ipython",
    "version": 3
   },
   "file_extension": ".py",
   "mimetype": "text/x-python",
   "name": "python",
   "nbconvert_exporter": "python",
   "pygments_lexer": "ipython3",
   "version": "3.7.4"
  }
 },
 "nbformat": 4,
 "nbformat_minor": 2
}
